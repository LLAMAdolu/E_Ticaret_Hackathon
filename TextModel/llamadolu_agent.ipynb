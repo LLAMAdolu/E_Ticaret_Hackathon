{
 "cells": [
  {
   "cell_type": "code",
   "execution_count": 1,
   "id": "72a25ca1-5319-437d-85de-228578a4fbde",
   "metadata": {
    "tags": []
   },
   "outputs": [
    {
     "name": "stderr",
     "output_type": "stream",
     "text": [
      "\n",
      "KeyboardInterrupt\n",
      "\n"
     ]
    }
   ],
   "source": [
    "max_seq_length = 2048 # Choose any! We auto support RoPE Scaling internally!\n",
    "dtype = None # None for auto detection. Float16 for Tesla T4, V100, Bfloat16 for Ampere+\n",
    "load_in_4bit = False # Use 4bit quantization to reduce memory usage. Can be False.\n",
    "\n",
    "from unsloth import FastLanguageModel\n",
    "model, tokenizer = FastLanguageModel.from_pretrained(\n",
    "    model_name = \"lora_model\", # YOUR MODEL YOU USED FOR TRAINING\n",
    "    max_seq_length = max_seq_length,\n",
    "    dtype = dtype,\n",
    "    load_in_4bit = load_in_4bit,\n",
    ")\n",
    "FastLanguageModel.for_inference(model) # Enable native 2x faster inference\n",
    "\n",
    "messages = [\n",
    "    {\"role\": \"system\", \"content\": \"You are a marketing bot that is specialized to make natural language product titles professional, eye-catching and sales-ready. Make user-entered sales descriptions professional. Also, if the user input contains regional words, you can find the meaning of this in the text below. When translating your descriptions into a global and professional form, take these words and their descriptions into account. In response: Use the template \\\"\\\"\\\"\\n\\\"Profesyonel Başlık\\\": ...\\n\\\"Profesyonel Açıklama\\\": ...\\n\\\"\\\"\\\". If the user enters long and unprofessional additional descriptions, do not display them in the \\\"Profesyonel Başlık\\\" section, but add them to the \\\"Profesyonel Açıklama\\\" section.\"},\n",
    "    {\"role\": \"user\", \"content\": \"Kullanıcı inputu: \\\"700 gram kuşburnu marmelat yüzde yüz dogal açtıktan sonra dolaba koyun\\\" Yöresel kelimeler: {}\"},\n",
    "]\n",
    "inputs = tokenizer.apply_chat_template(\n",
    "    messages,\n",
    "    tokenize = True,\n",
    "    add_generation_prompt = True, # Must add for generation\n",
    "    return_tensors = \"pt\",\n",
    ").to(\"cuda\")\n",
    "\n",
    "from transformers import TextStreamer\n",
    "text_streamer = TextStreamer(tokenizer, skip_prompt = True)\n",
    "_ = model.generate(input_ids = inputs, streamer = text_streamer, max_new_tokens = 256,\n",
    "                   use_cache = True, temperature = 0.1, min_p = 0.5)"
   ]
  },
  {
   "cell_type": "code",
   "execution_count": null,
   "id": "8640efaf-5cd8-41cb-9d76-0f63d6d077f2",
   "metadata": {
    "tags": []
   },
   "outputs": [],
   "source": [
    "max_seq_length = 2048 # Choose any! We auto support RoPE Scaling internally!\n",
    "dtype = None # None for auto detection. Float16 for Tesla T4, V100, Bfloat16 for Ampere+\n",
    "load_in_4bit = False # Use 4bit quantization to reduce memory usage. Can be False.\n",
    "\n",
    "from unsloth import FastLanguageModel\n",
    "model, tokenizer = FastLanguageModel.from_pretrained(\n",
    "    model_name = \"lora_model\", # YOUR MODEL YOU USED FOR TRAINING\n",
    "    max_seq_length = max_seq_length,\n",
    "    dtype = dtype,\n",
    "    load_in_4bit = load_in_4bit,\n",
    ")\n",
    "FastLanguageModel.for_inference(model) # Enable native 2x faster inference\n",
    "\n",
    "messages = [\n",
    "    {\"role\": \"system\", \"content\": \"You are a marketing bot that is specialized to make natural language product titles professional, eye-catching and sales-ready. Make user-entered sales descriptions professional. Also, if the user input contains regional words, you can find the meaning of this in the text below. When translating your descriptions into a global and professional form, take these words and their descriptions into account. In response: Use the template \\\"\\\"\\\"\\n\\\"Profesyonel Başlık\\\": ...\\n\\\"Profesyonel Açıklama\\\": ...\\n\\\"\\\"\\\". If the user enters long and unprofessional additional descriptions, do not display them in the \\\"Profesyonel Başlık\\\" section, but add them to the \\\"Profesyonel Açıklama\\\" section.\"},\n",
    "    {\"role\": \"user\", \"content\": \"Kullanıcı inputu: \\\"700 gram kuşburnu marmelat yüzde yüz dogal açtıktan sonra dolaba koyun\\\" Yöresel kelimeler: {}\"},\n",
    "]\n",
    "inputs = tokenizer.apply_chat_template(\n",
    "    messages,\n",
    "    tokenize = True,\n",
    "    add_generation_prompt = True, # Must add for generation\n",
    "    return_tensors = \"pt\",\n",
    ").to(\"cuda\")\n",
    "\n",
    "outputs = model.generate(input_ids=inputs, max_new_tokens=256, use_cache=True, temperature=0.1, min_p=0.5)\n",
    "generated_text = tokenizer.decode(outputs[0], skip_special_tokens=True)\n",
    "# Assuming `generated_text` contains the full output\n",
    "\n",
    "split_text = generated_text.split(\"assistant\\n\\n\")\n",
    "if len(split_text) > 1:\n",
    "    assistant_response = split_text[1]\n",
    "    print(assistant_response)\n",
    "else:\n",
    "    print(\"Assistant response not found.\")"
   ]
  },
  {
   "cell_type": "code",
   "execution_count": 1,
   "id": "fab022ed-984d-43ae-a4c0-836e713daaad",
   "metadata": {
    "tags": []
   },
   "outputs": [
    {
     "name": "stdout",
     "output_type": "stream",
     "text": [
      "🦥 Unsloth: Will patch your computer to enable 2x faster free finetuning.\n",
      "==((====))==  Unsloth 2024.9.post3: Fast Llama patching. Transformers = 4.45.1.\n",
      "   \\\\   /|    GPU: NVIDIA A100-SXM4-40GB. Max memory: 39.381 GB. Platform = Linux.\n",
      "O^O/ \\_/ \\    Pytorch: 2.4.1+cu121. CUDA = 8.0. CUDA Toolkit = 12.1.\n",
      "\\        /    Bfloat16 = TRUE. FA [Xformers = 0.0.28.post1. FA2 = False]\n",
      " \"-____-\"     Free Apache license: http://github.com/unslothai/unsloth\n"
     ]
    },
    {
     "name": "stderr",
     "output_type": "stream",
     "text": [
      "Unsloth 2024.9.post3 patched 28 layers with 28 QKV layers, 28 O layers and 28 MLP layers.\n"
     ]
    }
   ],
   "source": [
    "from llamadolu_agent_service import ChatLLAMAdolu\n",
    "\n",
    "chat = ChatLLAMAdolu()"
   ]
  },
  {
   "cell_type": "code",
   "execution_count": 2,
   "id": "f37a25b8-3627-407e-bc87-375ec3cd0780",
   "metadata": {},
   "outputs": [
    {
     "name": "stderr",
     "output_type": "stream",
     "text": [
      "The attention mask is not set and cannot be inferred from input because pad token is same as eos token. As a consequence, you may observe unexpected behavior. Please pass your input's `attention_mask` to obtain reliable results.\n"
     ]
    },
    {
     "data": {
      "text/plain": [
       "'system\\n\\nCutting Knowledge Date: December 2023\\nToday Date: 26 July 2024\\n\\nYou are a marketing bot that is specialized to make natural language product titles professional, eye-catching and sales-ready. Make user-entered sales descriptions professional. Also, if the user input contains regional words, you can find the meaning of this in the text below. When translating your descriptions into a global and professional form, take these words and their descriptions into account. In response: Use the template \"\"\"\\n\"Profesyonel Başlık\":...\\n\"Profesyonel Açıklama\":...\\n\"\"\". If the user enters long and unprofessional additional descriptions, do not display them in the \"Profesyonel Başlık\" section, but add them to the \"Profesyonel Açıklama\" section.user\\n\\nKullanıcı inputu: \"Anıhlı çemen 500gr\" Yöresel kelimeler: {\\'Yöre\\': \\'Trabzon\\', \\'Kelime\\': \\'Anıh\\', \\'Anlamı\\': \\'Nane\\'}assistant\\n\\n\"Profesyonel Başlık\": \"Nane Çemen - 500g\", \\n\"Profesyonel Açıklama\": \"Trabzon\\'dan gelen bu anıhlı nane çemeni, lezzetli yemekler için idealdir. 500 gram ağırlığıyla sofralarınızı güzelleştirir.\"'"
      ]
     },
     "execution_count": 2,
     "metadata": {},
     "output_type": "execute_result"
    }
   ],
   "source": [
    "chat.ask_model(\"Anıhlı çemen 500gr\")"
   ]
  },
  {
   "cell_type": "code",
   "execution_count": null,
   "id": "bcee2a86-6506-4f03-9a4e-a22f7dd49344",
   "metadata": {},
   "outputs": [],
   "source": []
  }
 ],
 "metadata": {
  "environment": {
   "kernel": "conda-base-py",
   "name": "workbench-notebooks.m124",
   "type": "gcloud",
   "uri": "us-docker.pkg.dev/deeplearning-platform-release/gcr.io/workbench-notebooks:m124"
  },
  "kernelspec": {
   "display_name": "Python 3 (ipykernel)",
   "language": "python",
   "name": "conda-base-py"
  },
  "language_info": {
   "codemirror_mode": {
    "name": "ipython",
    "version": 3
   },
   "file_extension": ".py",
   "mimetype": "text/x-python",
   "name": "python",
   "nbconvert_exporter": "python",
   "pygments_lexer": "ipython3",
   "version": "3.10.14"
  }
 },
 "nbformat": 4,
 "nbformat_minor": 5
}
