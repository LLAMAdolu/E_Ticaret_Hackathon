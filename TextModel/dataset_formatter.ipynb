{
 "cells": [
  {
   "cell_type": "markdown",
   "id": "cdbb5d71-7bcb-4857-ba2b-92bffb52fc2d",
   "metadata": {},
   "source": [
    "## ShareGPT Formatter"
   ]
  },
  {
   "cell_type": "code",
   "execution_count": 12,
   "id": "174d15ee-f77a-4a3d-8c32-0baad0a1200e",
   "metadata": {
    "tags": []
   },
   "outputs": [],
   "source": [
    "import json\n",
    "\n",
    "file_path = 'product_headers.json'\n",
    "\n",
    "with open(file_path, 'r', encoding='utf-8') as f:\n",
    "    data = json.load(f)\n",
    "\n",
    "convos = [] \n",
    "for item in data:\n",
    "    regional_words = \", \".join([f\"\\\"Yöre\\\": \\\"{word['Yöre']}\\\", \\\"Kelime\\\": \\\"{word['Kelime']}\\\", \\\"Anlamı\\\": \\\"{word['Anlamı']}\\\"\" for word in item.get(\"regional_words\", [])])\n",
    "    \n",
    "    single_conversation = [\n",
    "        {\"from\": \"system\", \"value\": \"Sen doğal bir dil ile girilmiş ürün başlıklarını profesyonel, dikkat çekici ve satışa hazır hale getirmek için özelleştirilmiş bir pazarlama botusun. Kullanıcının girdiği satış açıklamalarını profesyonel hale getir. Ayrıca eğer kullanıcı girdisi yöresel kelime içeriyor ise bunun anlamını da aşağıdaki metinde bulabilirsin. Açıklamalarını global ve profesyonel bir hale çevirirken bu kelimeleri ve açıklamalarını da dikkate al.\"},\n",
    "        {\"from\": \"human\", \"value\": f'Kullanıcı inputu:\\n\\\"{item[\"casual_description\"]}\\\"\\n\\nYöresel kelimeler:\\n{{{regional_words}}}'},\n",
    "        {\"from\": \"gpt\", \"value\": f'\\\"Profesyonel Başlık\\\": \\\"{item[\"professional_header\"]}\\\", \\n\\\"Profesyonel Açıklama\\\": \\\"{item[\"professional_description\"]}\\\"'}\n",
    "    ]\n",
    "    \n",
    "    convos.append(single_conversation)\n",
    "\n",
    "sharegpt_format = {\"conversations\": convos}\n",
    "    \n",
    "# JSON dosyasına kaydet\n",
    "with open('dataset_sharegpt_formatted.json', 'w') as f:\n",
    "    json.dump(sharegpt_format, f, indent=4, ensure_ascii=False)"
   ]
  },
  {
   "cell_type": "markdown",
   "id": "ef3953b7-6bfa-4baf-981e-20eecf843a24",
   "metadata": {},
   "source": [
    "## Alpaca Formatter"
   ]
  },
  {
   "cell_type": "code",
   "execution_count": 3,
   "id": "81981bca-997c-4c8a-9701-7c9239ffdeca",
   "metadata": {},
   "outputs": [],
   "source": [
    "import json\n",
    "\n",
    "file_path = 'product_headers.json'\n",
    "\n",
    "with open(file_path, 'r', encoding='utf-8') as f:\n",
    "    data = json.load(f)\n",
    "\n",
    "sharegpt_format = []\n",
    "for item in data:\n",
    "    regional_words = \", \".join([f\"\\\"Yöre\\\": \\\"{word['Yöre']}\\\", \\\"Kelime\\\": \\\"{word['Kelime']}\\\", \\\"Anlamı\\\": \\\"{word['Anlamı']}\\\"\" for word in item.get(\"regional_words\", [])])\n",
    "    \n",
    "    single_conversation = {\n",
    "        \"instruction\": \"You are a marketing bot that is specialized to make natural language product titles professional, eye-catching, and sales-ready. Make user-entered sales descriptions professional. Also, if the user input contains regional words, you can find the meaning of this in the text below. When translating your descriptions into a global and professional form, take these words and their descriptions into account. In response: Use the template \\\"\\\"\\\"\\n\\\"Profesyonel Başlık\\\": ...\\n\\\"Profesyonel Açıklama\\\": ...\\n\\\"\\\"\\\". If the user enters long and unprofessional additional descriptions, do not display them in the \\\"Profesyonel Başlık\\\" section, but add them to the \\\"Profesyonel Açıklama\\\" section. Write gram and quantity information separated by a hyphen at the end of the title to attract attention. Use eye-catching expressions that increase sales in titles.\",\n",
    "        \"input\": f'Kullanıcı inputu:\\n\\\"{item[\"casual_description\"]}\\\"\\n\\nYöresel kelimeler:\\n{{{regional_words}}}',\n",
    "        \"output\": f'\\\"Profesyonel Başlık\\\": \\\"{item[\"professional_header\"]}\\\", \\n\\\"Profesyonel Açıklama\\\": \\\"{item[\"professional_description\"]}\\\"'\n",
    "    }\n",
    "\n",
    "    \n",
    "    \n",
    "    sharegpt_format.append(single_conversation)\n",
    "\n",
    "# JSON dosyasına kaydet\n",
    "with open('dataset_alpaca_formatted.json', 'w') as f:\n",
    "    json.dump(sharegpt_format, f, indent=4, ensure_ascii=False)"
   ]
  },
  {
   "cell_type": "code",
   "execution_count": null,
   "id": "946d2234-b6ac-4459-86b3-4dbad291c8ee",
   "metadata": {},
   "outputs": [],
   "source": []
  }
 ],
 "metadata": {
  "environment": {
   "kernel": "conda-base-py",
   "name": "workbench-notebooks.m124",
   "type": "gcloud",
   "uri": "us-docker.pkg.dev/deeplearning-platform-release/gcr.io/workbench-notebooks:m124"
  },
  "kernelspec": {
   "display_name": "Python 3 (ipykernel)",
   "language": "python",
   "name": "conda-base-py"
  },
  "language_info": {
   "codemirror_mode": {
    "name": "ipython",
    "version": 3
   },
   "file_extension": ".py",
   "mimetype": "text/x-python",
   "name": "python",
   "nbconvert_exporter": "python",
   "pygments_lexer": "ipython3",
   "version": "3.10.14"
  }
 },
 "nbformat": 4,
 "nbformat_minor": 5
}
