{
 "cells": [
  {
   "cell_type": "code",
   "execution_count": null,
   "id": "f51cc10d-a5f4-4a92-aeb8-412bea19fc64",
   "metadata": {},
   "outputs": [
    {
     "name": "stderr",
     "output_type": "stream",
     "text": [
      "Downloading data from 'https://github.com/danielgatis/rembg/releases/download/v0.0.0/u2net.onnx' to file 'C:\\Users\\zahid\\.u2net\\u2net.onnx'.\n",
      " 93%|#####################################   | 163M/176M [02:04<00:24, 522kB/s]"
     ]
    }
   ],
   "source": [
    "import image_processing_pipeline as ipp\n",
    "import os\n",
    "from PIL import Image\n",
    "from IPython.display import display\n",
    "\n",
    "# Define the path to your input image and the prompt you want to use\n",
    "input_image_path = '../Images/Original Images/test_3.jpg'  # Replace with your image path\n",
    "prompt = \"Replace the background with a soft, neutral-colored surface that complements the product, such as a subtle wood grain or lightly textured stone. Ensure the background is slightly blurred to keep the focus on the product, providing a warm, natural feel that enhances the product's appeal without being distracting.\"\n",
    "\n",
    "# Extract base name from input image path (e.g., 'test_1' from 'test_1.png')\n",
    "base_name = os.path.splitext(os.path.basename(input_image_path))[0]\n",
    "\n",
    "# Run the pipeline and get the final processed image\n",
    "final_image = ipp.process_image_pipeline(input_image_path, prompt)\n",
    "\n",
    "# Define the final output path (e.g., '../Images/Output Images/test_1_final_version.png')\n",
    "final_image_path = os.path.join('../Images/Output Images', f\"{base_name}_final_version.png\")\n",
    "\n",
    "# Save the final image with the custom name\n",
    "final_image.save(final_image_path)\n",
    "\n",
    "# Display the final image\n",
    "display(final_image)\n",
    "print(f\"Final image saved at: {final_image_path}\")\n"
   ]
  },
  {
   "cell_type": "code",
   "execution_count": null,
   "id": "4236c427-3bf6-4bbb-88fd-fb8dbec717aa",
   "metadata": {},
   "outputs": [],
   "source": []
  }
 ],
 "metadata": {
  "kernelspec": {
   "display_name": "Python 3 (ipykernel)",
   "language": "python",
   "name": "python3"
  },
  "language_info": {
   "codemirror_mode": {
    "name": "ipython",
    "version": 3
   },
   "file_extension": ".py",
   "mimetype": "text/x-python",
   "name": "python",
   "nbconvert_exporter": "python",
   "pygments_lexer": "ipython3",
   "version": "3.11.5"
  }
 },
 "nbformat": 4,
 "nbformat_minor": 5
}
