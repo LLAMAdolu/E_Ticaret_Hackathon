{
 "cells": [
  {
   "cell_type": "code",
   "execution_count": 3,
   "id": "c9789502-0010-4fdf-9672-512a00b03274",
   "metadata": {},
   "outputs": [
    {
     "name": "stdout",
     "output_type": "stream",
     "text": [
      "Model yükleniyor...\n"
     ]
    },
    {
     "name": "stderr",
     "output_type": "stream",
     "text": [
      "C:\\Users\\zahid\\AppData\\Local\\Temp\\ipykernel_21524\\858736543.py:25: FutureWarning: You are using `torch.load` with `weights_only=False` (the current default value), which uses the default pickle module implicitly. It is possible to construct malicious pickle data which will execute arbitrary code during unpickling (See https://github.com/pytorch/pytorch/blob/main/SECURITY.md#untrusted-models for more details). In a future release, the default value for `weights_only` will be flipped to `True`. This limits the functions that could be executed during unpickling. Arbitrary objects will no longer be allowed to be loaded via this mode unless they are explicitly allowlisted by the user via `torch.serialization.add_safe_globals`. We recommend you start setting `weights_only=True` for any use case where you don't have full control of the loaded file. Please open an issue on GitHub for any issues related to this experimental feature.\n",
      "  net.load_state_dict(torch.load(model_dir, map_location='cpu'))\n"
     ]
    },
    {
     "name": "stdout",
     "output_type": "stream",
     "text": [
      "Resim işleniyor...\n",
      "Arka planı temizlenmiş resim ../Test Images/cleaned_image.png olarak kaydedildi.\n"
     ]
    }
   ],
   "source": [
    "import sys\n",
    "import os\n",
    "import cv2\n",
    "import numpy as np\n",
    "from PIL import Image\n",
    "import torch\n",
    "import torchvision.transforms as transforms\n",
    "sys.path.append('./U-2-Net')\n",
    "from model import U2NET  # U2NET model dosyasını import et\n",
    "\n",
    "# Ağırlık dosyasının ve giriş resimlerinin yolu\n",
    "model_dir = 'U-2-Net/saved_models/u2net/u2net.pth'\n",
    "input_image_path = '../Test Images/test_2.jpg'  # İşlemek istediğin resmin yolu\n",
    "output_image_path = '../Test Images/output_image.png'\n",
    "final_output_path = '../Test Images/cleaned_image.png'\n",
    "\n",
    "# U^2-Net modelini yükle\n",
    "def load_model():\n",
    "    print(\"Model yükleniyor...\")\n",
    "    net = U2NET(3, 1)  # 3 input channel, 1 output channel\n",
    "    if torch.cuda.is_available():\n",
    "        net.load_state_dict(torch.load(model_dir))\n",
    "        net.to(torch.device('cuda'))\n",
    "    else:\n",
    "        net.load_state_dict(torch.load(model_dir, map_location='cpu'))\n",
    "    net.eval()\n",
    "    return net\n",
    "\n",
    "# Resmi işle\n",
    "def process_image(net):\n",
    "    print(\"Resim işleniyor...\")\n",
    "    image = Image.open(input_image_path).convert('RGB')  # RGBA'yı RGB'ye çeviriyoruz\n",
    "    original_size = image.size  # Orijinal resim boyutunu saklıyoruz\n",
    "    transform = transforms.Compose([transforms.Resize((320, 320)),\n",
    "                                    transforms.ToTensor()])\n",
    "    image_tensor = transform(image).unsqueeze(0)  # Batch boyutunu ekle\n",
    "\n",
    "    if torch.cuda.is_available():\n",
    "        image_tensor = image_tensor.cuda()\n",
    "\n",
    "    with torch.no_grad():\n",
    "        output = net(image_tensor)[0]\n",
    "    \n",
    "    output_np = output.squeeze().cpu().data.numpy()\n",
    "    mask = (output_np > 0.5).astype(np.uint8) * 255\n",
    "\n",
    "    # Maskeyi kaydet ve yeniden boyutlandır\n",
    "    output_image = Image.fromarray(mask)\n",
    "    output_image = output_image.resize(original_size)  # Maskeyi orijinal boyuta geri döndür\n",
    "    output_image.save(output_image_path)\n",
    "    \n",
    "    # Maskeyi görüntüye uygula\n",
    "    apply_mask_to_image(input_image_path, output_image_path, final_output_path)\n",
    "    print(f\"Arka planı temizlenmiş resim {final_output_path} olarak kaydedildi.\")\n",
    "\n",
    "# Maskeyi asıl görüntüye uygula\n",
    "def apply_mask_to_image(original_image_path, mask_image_path, output_image_path):\n",
    "    original_image = Image.open(original_image_path).convert('RGB')\n",
    "    mask_image = Image.open(mask_image_path).convert('L')  # Maskeyi gri tonlamaya çeviriyoruz\n",
    "\n",
    "    # Asıl görüntü ile maskeyi birleştiriyoruz\n",
    "    mask_image_np = np.array(mask_image) / 255.0  # 0 ve 1 arasında bir maske\n",
    "    original_image_np = np.array(original_image)\n",
    "\n",
    "    # Maskeyi uygula\n",
    "    output_image_np = (original_image_np * mask_image_np[:, :, None]).astype(np.uint8)\n",
    "\n",
    "    # Sonuç görüntüsünü kaydet\n",
    "    output_image = Image.fromarray(output_image_np)\n",
    "    output_image.save(output_image_path)\n",
    "\n",
    "if __name__ == '__main__':\n",
    "    net = load_model()\n",
    "    process_image(net)\n"
   ]
  },
  {
   "cell_type": "code",
   "execution_count": null,
   "id": "39adfd15-848d-412f-8f0f-7fb5c14f2c57",
   "metadata": {},
   "outputs": [],
   "source": []
  }
 ],
 "metadata": {
  "kernelspec": {
   "display_name": "Python 3 (ipykernel)",
   "language": "python",
   "name": "python3"
  },
  "language_info": {
   "codemirror_mode": {
    "name": "ipython",
    "version": 3
   },
   "file_extension": ".py",
   "mimetype": "text/x-python",
   "name": "python",
   "nbconvert_exporter": "python",
   "pygments_lexer": "ipython3",
   "version": "3.11.5"
  }
 },
 "nbformat": 4,
 "nbformat_minor": 5
}
